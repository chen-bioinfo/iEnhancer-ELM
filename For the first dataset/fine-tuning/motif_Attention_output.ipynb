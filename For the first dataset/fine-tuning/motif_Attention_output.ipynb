{
 "cells": [
  {
   "cell_type": "code",
   "execution_count": 1,
   "id": "6446f26c-9566-412e-9b18-a0007609775e",
   "metadata": {},
   "outputs": [
    {
     "name": "stderr",
     "output_type": "stream",
     "text": [
      "/home/lijiahao/anaconda3/envs/tensorflow_pytorch_python/lib/python3.9/site-packages/tqdm/auto.py:22: TqdmWarning: IProgress not found. Please update jupyter and ipywidgets. See https://ipywidgets.readthedocs.io/en/stable/user_install.html\n",
      "  from .autonotebook import tqdm as notebook_tqdm\n"
     ]
    }
   ],
   "source": [
    "import os\n",
    "import torch\n",
    "import argparse\n",
    "import numpy as np\n",
    "import pandas as pd\n",
    "from motif_util import *\n",
    "\n",
    "from util import * \n",
    "from model import *\n",
    "\n",
    "from pandas import DataFrame\n",
    "from transformers import AutoConfig, BertConfig\n",
    "\n",
    "os.environ[\"CUDA_VISIBLE_DEVICES\"] = \"0\"\n",
    "device=torch.device('cuda' if torch.cuda.is_available() else 'cpu')"
   ]
  },
  {
   "cell_type": "code",
   "execution_count": 2,
   "id": "96335120-861b-4dc3-adbb-05bcc41e5949",
   "metadata": {},
   "outputs": [],
   "source": [
    "parser = argparse.ArgumentParser()\n",
    "parser.add_argument('--mer',              type=int,  default=3,  help='')\n",
    "parser.add_argument('--epoches',              type=int,  default=30,  help='')\n",
    "parser.add_argument('--batch_size',           type=int,  default=16,  help='')\n",
    "parser.add_argument('--max_length',           type=int,  default=200, help='')\n",
    "parser.add_argument('--learning_rate',        type=float, default=1e-4, help=\"\")\n",
    "parser.add_argument('--model_path',           type=str,  default=\"../DNA-BERT/3-new-12w-0\", help='')\n",
    "parser.add_argument('--ind_filename',  type=str,  default=\"../dataset/enhancer_3-mer_DNABERT_ind.txt\", help='')\n",
    "parser.add_argument('--tra_filename',  type=str,  default=\"../dataset/enhancer_3-mer_DNABERT_tra.txt\", help='')\n",
    "\n",
    "args = parser.parse_args(args=[]) "
   ]
  },
  {
   "cell_type": "code",
   "execution_count": 3,
   "id": "08e2f1de-d99d-4468-ba45-88fa6a85dec9",
   "metadata": {},
   "outputs": [
    {
     "name": "stderr",
     "output_type": "stream",
     "text": [
      "Some weights of the model checkpoint at ../DNA-BERT/3-new-12w-0 were not used when initializing C_Bert_2FC_average_atten: ['cls.predictions.transform.LayerNorm.bias', 'cls.predictions.transform.dense.weight', 'cls.predictions.transform.dense.bias', 'cls.predictions.transform.LayerNorm.weight', 'cls.predictions.bias', 'cls.predictions.decoder.bias', 'cls.predictions.decoder.weight']\n",
      "- This IS expected if you are initializing C_Bert_2FC_average_atten from the checkpoint of a model trained on another task or with another architecture (e.g. initializing a BertForSequenceClassification model from a BertForPreTraining model).\n",
      "- This IS NOT expected if you are initializing C_Bert_2FC_average_atten from the checkpoint of a model that you expect to be exactly identical (initializing a BertForSequenceClassification model from a BertForSequenceClassification model).\n",
      "Some weights of C_Bert_2FC_average_atten were not initialized from the model checkpoint at ../DNA-BERT/3-new-12w-0 and are newly initialized: ['classifier1.bias', 'classifier1.weight', 'classifier2.bias', 'classifier2.weight']\n",
      "You should probably TRAIN this model on a down-stream task to be able to use it for predictions and inference.\n",
      "/home/lijiahao/project/Enhancer/Bert_try/code/DNA-Bert/code_2/1-iEnhancer-ELM_public/code/util.py:458: RuntimeWarning: invalid value encountered in true_divide\n",
      "  real_scores = real_scores / np.linalg.norm(real_scores)\n"
     ]
    },
    {
     "name": "stdout",
     "output_type": "stream",
     "text": [
      "len: (2976, 200)\n"
     ]
    }
   ],
   "source": [
    "# L2-normalization average\n",
    "mers = [3]\n",
    "pre_label_list, real_label_list = [], []\n",
    "for mer in mers:\n",
    "    args.mer = mer\n",
    "    args.model_path = \"../DNA-BERT/{}-new-12w-0\".format(mer)\n",
    "    args.ind_filename = \"../dataset/enhancer_{}-mer_DNABERT_ind.txt\".format(mer)\n",
    "    args.tra_filename = \"../dataset/enhancer_{}-mer_DNABERT_tra.txt\".format(mer)\n",
    "    \n",
    "    # construct config for Bert in order to output the attention of 12 layers\n",
    "    # construct the model of BERT\n",
    "    config = BertConfig.from_pretrained(args.model_path, output_attentions=True)\n",
    "    model = C_Bert_2FC_average_atten.from_pretrained(args.model_path, config=config).to(device)\n",
    "    \n",
    "    # load model after fine-tuning\n",
    "    model_dict = torch.load(\"fine-trained_model/C_Bert_2FC_average_{}-mer.pt\".format(mer))\n",
    "    model.load_state_dict(model_dict)\n",
    "\n",
    "    # loader training dataset\n",
    "    tra_dataloader = getData(args, split=False, validation=False, shuffle=False)\n",
    "    # tra_atten_scores = output_logit_label_atten_head(model, tra_dataloader, args) \n",
    "    tra_atten_scores = output_logit_label_atten(model, tra_dataloader, args) \n",
    "\n",
    "    np.save(\"./atten/C_Bert_2FC_average_atten_{}-mer_tra\".format(mer), tra_atten_scores)\n",
    "    \n",
    "\n",
    "    print(\"len: {}\".format(tra_atten_scores.shape))"
   ]
  }
 ],
 "metadata": {
  "kernelspec": {
   "display_name": "Python 3",
   "language": "python",
   "name": "python3"
  },
  "language_info": {
   "codemirror_mode": {
    "name": "ipython",
    "version": 3
   },
   "file_extension": ".py",
   "mimetype": "text/x-python",
   "name": "python",
   "nbconvert_exporter": "python",
   "pygments_lexer": "ipython3",
   "version": "3.9.12"
  },
  "vscode": {
   "interpreter": {
    "hash": "06233b56f961380e94bcca211189b77c55ac475925b9cac0cc39dad8759f75d1"
   }
  }
 },
 "nbformat": 4,
 "nbformat_minor": 5
}
