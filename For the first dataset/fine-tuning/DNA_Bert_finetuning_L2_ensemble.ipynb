{
 "cells": [
  {
   "cell_type": "code",
   "execution_count": 1,
   "id": "4c892e23-54c7-4d95-a3d5-ea8b96bca58c",
   "metadata": {},
   "outputs": [
    {
     "name": "stderr",
     "output_type": "stream",
     "text": [
      "/home/lijiahao/anaconda3/envs/tensorflow_pytorch_python/lib/python3.9/site-packages/tqdm/auto.py:22: TqdmWarning: IProgress not found. Please update jupyter and ipywidgets. See https://ipywidgets.readthedocs.io/en/stable/user_install.html\n",
      "  from .autonotebook import tqdm as notebook_tqdm\n"
     ]
    }
   ],
   "source": [
    "import os\n",
    "import copy\n",
    "import torch\n",
    "import argparse\n",
    "import numpy as np\n",
    "import pandas as pd\n",
    "from util import * \n",
    "from model import *\n",
    "from pandas import DataFrame\n",
    "from transformers import get_linear_schedule_with_warmup\n",
    "\n",
    "os.environ[\"CUDA_VISIBLE_DEVICES\"] = \"1\"\n",
    "device=torch.device('cuda' if torch.cuda.is_available() else 'cpu')"
   ]
  },
  {
   "cell_type": "code",
   "execution_count": 2,
   "id": "b0ee466a-fe69-4078-b067-f2118619ec11",
   "metadata": {},
   "outputs": [],
   "source": [
    "parser = argparse.ArgumentParser()\n",
    "parser.add_argument('--epoches',              type=int,  default=30,  help='')\n",
    "parser.add_argument('--batch_size',           type=int,  default=16,  help='')\n",
    "parser.add_argument('--max_length',           type=int,  default=200, help='')\n",
    "parser.add_argument('--learning_rate',        type=float, default=1e-4, help=\"\")\n",
    "parser.add_argument('--model_path',           type=str,  default=\"../DNAB-ERT/3-new-12w-0\", help='')\n",
    "parser.add_argument('--ind_filename',  type=str,  default=\"../dataset/enhancer_3-mer_DNABERT_ind.txt\", help='')\n",
    "parser.add_argument('--tra_filename',  type=str,  default=\"../dataset/enhancer_3-mer_DNABERT_tra.txt\", help='')\n",
    "\n",
    "args = parser.parse_args(args=[]) "
   ]
  },
  {
   "cell_type": "code",
   "execution_count": 3,
   "id": "93d4fdb4-9883-4d6c-81f5-536befd786ac",
   "metadata": {},
   "outputs": [
    {
     "name": "stderr",
     "output_type": "stream",
     "text": [
      "Some weights of the model checkpoint at ../DNA-BERT/3-new-12w-0 were not used when initializing C_Bert_2FC_average: ['cls.predictions.transform.LayerNorm.bias', 'cls.predictions.bias', 'cls.predictions.transform.LayerNorm.weight', 'cls.predictions.transform.dense.bias', 'cls.predictions.transform.dense.weight', 'cls.predictions.decoder.weight', 'cls.predictions.decoder.bias']\n",
      "- This IS expected if you are initializing C_Bert_2FC_average from the checkpoint of a model trained on another task or with another architecture (e.g. initializing a BertForSequenceClassification model from a BertForPreTraining model).\n",
      "- This IS NOT expected if you are initializing C_Bert_2FC_average from the checkpoint of a model that you expect to be exactly identical (initializing a BertForSequenceClassification model from a BertForSequenceClassification model).\n",
      "Some weights of C_Bert_2FC_average were not initialized from the model checkpoint at ../DNA-BERT/3-new-12w-0 and are newly initialized: ['classifier1.weight', 'classifier2.weight', 'classifier2.bias', 'classifier1.bias']\n",
      "You should probably TRAIN this model on a down-stream task to be able to use it for predictions and inference.\n"
     ]
    },
    {
     "name": "stdout",
     "output_type": "stream",
     "text": [
      "tra--mer: 3; acc:0.9535, sn:0.9474, sp:0.9596, mcc:0.9071\n",
      "ind--mer: 3; acc:0.8075, sn:0.7900, sp:0.8250, mcc:0.6154\n"
     ]
    },
    {
     "name": "stderr",
     "output_type": "stream",
     "text": [
      "Some weights of the model checkpoint at ../DNA-BERT/4-new-12w-0 were not used when initializing C_Bert_2FC_average: ['cls.predictions.transform.LayerNorm.bias', 'cls.predictions.bias', 'cls.predictions.transform.LayerNorm.weight', 'cls.predictions.transform.dense.bias', 'cls.predictions.transform.dense.weight', 'cls.predictions.decoder.weight', 'cls.predictions.decoder.bias']\n",
      "- This IS expected if you are initializing C_Bert_2FC_average from the checkpoint of a model trained on another task or with another architecture (e.g. initializing a BertForSequenceClassification model from a BertForPreTraining model).\n",
      "- This IS NOT expected if you are initializing C_Bert_2FC_average from the checkpoint of a model that you expect to be exactly identical (initializing a BertForSequenceClassification model from a BertForSequenceClassification model).\n",
      "Some weights of C_Bert_2FC_average were not initialized from the model checkpoint at ../DNA-BERT/4-new-12w-0 and are newly initialized: ['classifier1.weight', 'classifier2.weight', 'classifier2.bias', 'classifier1.bias']\n",
      "You should probably TRAIN this model on a down-stream task to be able to use it for predictions and inference.\n"
     ]
    },
    {
     "name": "stdout",
     "output_type": "stream",
     "text": [
      "tra--mer: 4; acc:0.9151, sn:0.8875, sp:0.9427, mcc:0.8315\n",
      "ind--mer: 4; acc:0.7975, sn:0.7550, sp:0.8400, mcc:0.5972\n"
     ]
    },
    {
     "name": "stderr",
     "output_type": "stream",
     "text": [
      "Some weights of the model checkpoint at ../DNA-BERT/5-new-12w-0 were not used when initializing C_Bert_2FC_average: ['cls.predictions.transform.LayerNorm.bias', 'cls.predictions.bias', 'cls.predictions.transform.LayerNorm.weight', 'cls.predictions.transform.dense.bias', 'cls.predictions.transform.dense.weight', 'cls.predictions.decoder.weight', 'cls.predictions.decoder.bias']\n",
      "- This IS expected if you are initializing C_Bert_2FC_average from the checkpoint of a model trained on another task or with another architecture (e.g. initializing a BertForSequenceClassification model from a BertForPreTraining model).\n",
      "- This IS NOT expected if you are initializing C_Bert_2FC_average from the checkpoint of a model that you expect to be exactly identical (initializing a BertForSequenceClassification model from a BertForSequenceClassification model).\n",
      "Some weights of C_Bert_2FC_average were not initialized from the model checkpoint at ../DNA-BERT/5-new-12w-0 and are newly initialized: ['classifier1.weight', 'classifier2.weight', 'classifier2.bias', 'classifier1.bias']\n",
      "You should probably TRAIN this model on a down-stream task to be able to use it for predictions and inference.\n"
     ]
    },
    {
     "name": "stdout",
     "output_type": "stream",
     "text": [
      "tra--mer: 5; acc:0.9394, sn:0.9353, sp:0.9434, mcc:0.8787\n",
      "ind--mer: 5; acc:0.8075, sn:0.7900, sp:0.8250, mcc:0.6154\n"
     ]
    },
    {
     "name": "stderr",
     "output_type": "stream",
     "text": [
      "Some weights of the model checkpoint at ../DNA-BERT/6-new-12w-0 were not used when initializing C_Bert_2FC_average: ['cls.predictions.transform.LayerNorm.bias', 'cls.predictions.bias', 'cls.predictions.transform.LayerNorm.weight', 'cls.predictions.transform.dense.bias', 'cls.predictions.transform.dense.weight', 'cls.predictions.decoder.weight', 'cls.predictions.decoder.bias']\n",
      "- This IS expected if you are initializing C_Bert_2FC_average from the checkpoint of a model trained on another task or with another architecture (e.g. initializing a BertForSequenceClassification model from a BertForPreTraining model).\n",
      "- This IS NOT expected if you are initializing C_Bert_2FC_average from the checkpoint of a model that you expect to be exactly identical (initializing a BertForSequenceClassification model from a BertForSequenceClassification model).\n",
      "Some weights of C_Bert_2FC_average were not initialized from the model checkpoint at ../DNA-BERT/6-new-12w-0 and are newly initialized: ['classifier1.weight', 'classifier2.weight', 'classifier2.bias', 'classifier1.bias']\n",
      "You should probably TRAIN this model on a down-stream task to be able to use it for predictions and inference.\n"
     ]
    },
    {
     "name": "stdout",
     "output_type": "stream",
     "text": [
      "tra--mer: 6; acc:0.9104, sn:0.8996, sp:0.9212, mcc:0.8209\n",
      "ind--mer: 6; acc:0.7950, sn:0.7650, sp:0.8250, mcc:0.5911\n"
     ]
    }
   ],
   "source": [
    "# L2-normalization and average\n",
    "mers = [3,4,5, 6]\n",
    "\n",
    "ind_pre_label_list, ind_real_label_list = [], []\n",
    "tra_pre_label_list, tra_real_label_list = [], []\n",
    "\n",
    "for mer in mers:\n",
    "    \n",
    "    args.model_path = \"../../DNA-BERT/{}-new-12w-0\".format(mer)\n",
    "    args.ind_filename = \"../dataset/enhancer_{}-mer_DNABERT_ind.txt\".format(mer)\n",
    "    args.tra_filename = \"../dataset/enhancer_{}-mer_DNABERT_tra.txt\".format(mer)\n",
    "    ind_dataloader = getData(args, split=False, validation=True, shuffle=False)\n",
    "    tra_dataloader = getData(args, split=False, validation=False, shuffle=False)\n",
    "\n",
    "    # ensemble for average_L2\n",
    "    model = C_Bert_2FC_average.from_pretrained(args.model_path, num_labels=1).to(device)\n",
    "    model_dict = torch.load(\"fine-trained_model/C_Bert_2FC_average_{}-mer.pt\".format(mer))\n",
    "    model.load_state_dict(model_dict)\n",
    "    \n",
    "    # prediction in training dataset \n",
    "    tra_pre_labels, tra_real_labels = prediction(model, tra_dataloader, kmer=mer)\n",
    "    tra_pre_label_list.append(tra_pre_labels)\n",
    "    tra_real_label_list.append(tra_real_labels)\n",
    "    \n",
    "    acc, mcc, sn, sp = evaluation_criterion(tra_pre_labels, tra_real_labels)\n",
    "    print(\"tra--mer: {}; acc:{:.4f}, sn:{:.4f}, sp:{:.4f}, mcc:{:.4f}\".format(mer, acc, sn, sp, mcc))\n",
    "    \n",
    "    # prediction in independent dataset\n",
    "    ind_pre_labels, ind_real_labels = prediction(model, ind_dataloader, kmer=mer)\n",
    "    ind_pre_label_list.append(ind_pre_labels)\n",
    "    ind_real_label_list.append(ind_real_labels)\n",
    "    \n",
    "    acc, mcc, sn, sp = evaluation_criterion(ind_pre_labels, ind_real_labels)\n",
    "    print(\"ind--mer: {}; acc:{:.4f}, sn:{:.4f}, sp:{:.4f}, mcc:{:.4f}\".format(mer, acc, sn, sp, mcc))"
   ]
  },
  {
   "cell_type": "code",
   "execution_count": 4,
   "id": "8036426f-aaf8-4f5c-a195-f6940891d610",
   "metadata": {},
   "outputs": [
    {
     "name": "stdout",
     "output_type": "stream",
     "text": [
      "ensemble learning; tra--acc:0.9471, sn:0.9373, sp:0.9569, mcc:0.8944\n",
      "ensemble learning; ind--acc:0.8300, sn:0.8000, sp:0.8600, mcc:0.6612\n"
     ]
    }
   ],
   "source": [
    "tra_pre_label_average = np.array(tra_pre_label_list).mean(axis=0)\n",
    "tra_real_label_average = np.array(tra_real_label_list).mean(axis=0)\n",
    "tra_acc, tra_mcc, tra_sn, tra_sp = evaluation_criterion(tra_pre_label_average, tra_real_label_average)\n",
    "print(\"ensemble learning; tra--acc:{:.4f}, sn:{:.4f}, sp:{:.4f}, mcc:{:.4f}\".format(tra_acc, tra_sn, tra_sp, tra_mcc))\n",
    "\n",
    "ind_pre_label_average = np.array(ind_pre_label_list).mean(axis=0)\n",
    "ind_real_label_average = np.array(ind_real_label_list).mean(axis=0)\n",
    "ind_acc, ind_mcc, ind_sn, ind_sp = evaluation_criterion(ind_pre_label_average, ind_real_label_average)\n",
    "print(\"ensemble learning; ind--acc:{:.4f}, sn:{:.4f}, sp:{:.4f}, mcc:{:.4f}\".format(ind_acc, ind_sn, ind_sp, ind_mcc))"
   ]
  }
 ],
 "metadata": {
  "kernelspec": {
   "display_name": "Python 3",
   "language": "python",
   "name": "python3"
  },
  "language_info": {
   "codemirror_mode": {
    "name": "ipython",
    "version": 3
   },
   "file_extension": ".py",
   "mimetype": "text/x-python",
   "name": "python",
   "nbconvert_exporter": "python",
   "pygments_lexer": "ipython3",
   "version": "3.9.12"
  },
  "vscode": {
   "interpreter": {
    "hash": "06233b56f961380e94bcca211189b77c55ac475925b9cac0cc39dad8759f75d1"
   }
  }
 },
 "nbformat": 4,
 "nbformat_minor": 5
}
