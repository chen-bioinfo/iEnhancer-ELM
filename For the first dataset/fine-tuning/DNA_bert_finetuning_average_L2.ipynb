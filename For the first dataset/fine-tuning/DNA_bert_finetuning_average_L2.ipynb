{
 "cells": [
  {
   "cell_type": "code",
   "execution_count": 1,
   "id": "bd72df87-fe20-4098-a85b-4108c3000412",
   "metadata": {},
   "outputs": [],
   "source": [
    "import os\n",
    "import torch\n",
    "import argparse\n",
    "import numpy as np\n",
    "import pandas as pd\n",
    "from util import * \n",
    "from model import *\n",
    "from pandas import DataFrame\n",
    "\n",
    "os.environ[\"CUDA_VISIBLE_DEVICES\"] = \"0\"\n",
    "device=torch.device('cuda' if torch.cuda.is_available() else 'cpu')"
   ]
  },
  {
   "cell_type": "code",
   "execution_count": 2,
   "id": "13a03712-9a1c-40cf-bd72-f0598c33a607",
   "metadata": {},
   "outputs": [],
   "source": [
    "parser = argparse.ArgumentParser()\n",
    "parser.add_argument('--epoches',              type=int,  default=30,  help='')\n",
    "parser.add_argument('--batch_size',           type=int,  default=16,  help='')\n",
    "parser.add_argument('--max_length',           type=int,  default=200, help='')\n",
    "parser.add_argument('--learning_rate',        type=float, default=1e-4, help=\"\")\n",
    "parser.add_argument('--model_path',           type=str,  default=\"../3-new-12w-0\", help='')\n",
    "parser.add_argument('--ind_filename',  type=str,  default=\"../dataset/enhancer_3-mer_DNABERT_ind.txt\", help='')\n",
    "parser.add_argument('--tra_filename',  type=str,  default=\"../dataset/enhancer_3-mer_DNABERT_tra.txt\", help='')\n",
    "\n",
    "args = parser.parse_args(args=[]) \n"
   ]
  },
  {
   "cell_type": "code",
   "execution_count": null,
   "id": "ee1a1593-5a1e-4a6b-8c2f-d3c84d9041ec",
   "metadata": {},
   "outputs": [],
   "source": [
    "# add L2-normalization + average\n",
    "\n",
    "mers = [3, 4, 5, 6]\n",
    "seeds = [5576, 5217, 9653, 5630]    # The aim of fixing these random seeds is to reproduce our work\n",
    "lambds = [1e-3, 1e-3, 5e-4, 5e-5]\n",
    "learning_rates = [5e-5, 2e-5, 5e-5, 1e-5]\n",
    "\n",
    "tra_loss_list, tra_acc_list, val_loss_list, val_acc_list, ind_loss_list, ind_acc_list = [], [], [], [], [], []\n",
    "\n",
    "for i in range(len(mers)):\n",
    "    mer = mers[i]\n",
    "    seed = seeds[i]\n",
    "    lambd = lambds[i]\n",
    "    learning_rate = learning_rates[i]\n",
    "    \n",
    "    torch.manual_seed(seed)\n",
    "    torch.cuda.manual_seed_all(seed) \n",
    "    np.random.seed(seed)\n",
    "    torch.backends.cudnn.deterministic = True\n",
    "    \n",
    "    args.model_path = \"../../DNA-BERT/{}-new-12w-0\".format(mer)\n",
    "    args.ind_filename = \"../dataset/enhancer_{}-mer_DNABERT_ind.txt\".format(mer)\n",
    "    args.tra_filename = \"../dataset/enhancer_{}-mer_DNABERT_tra.txt\".format(mer)\n",
    "\n",
    "    tra_dataloader = getData(args, split=False, validation=False, shuffle=True)\n",
    "    ind_dataloader = getData(args, split=False, validation=True, shuffle=False)\n",
    "    \n",
    "\n",
    "    args.learning_rate = learning_rate\n",
    "\n",
    "    model = C_Bert_2FC_average.from_pretrained(args.model_path, num_labels=1).to(device)\n",
    "    print(\"{}-mer; lr: {}, lambd:{}, seed:{}, dropout:0.30, delay: 0.98 768->25->1, L2\".format(mer, learning_rate, lambd, seed))\n",
    "\n",
    "    epoches = args.epoches\n",
    "    learning_rate = args.learning_rate\n",
    "    optimizer = optim.Adam(model.parameters(), lr=learning_rate, betas=(0.9, 0.999), eps=1e-08,)\n",
    "    scheduler = optim.lr_scheduler.ExponentialLR(optimizer, 0.98)    # learning rate delay\n",
    "\n",
    "    for epoch in range(epoches):\n",
    "        tra_acc, tra_loss = train_finetuning_Norm(model, tra_dataloader, optimizer, args, lambd, 2, kmer=mer)\n",
    "        scheduler.step()\n",
    "        ind_acc, ind_mcc, ind_sn, ind_sp, ind_loss = validation_finetuning(model, ind_dataloader)\n",
    "\n",
    "        tra_loss_list.append(tra_loss)\n",
    "        tra_acc_list.append(tra_acc)\n",
    "\n",
    "        ind_loss_list.append(ind_loss)\n",
    "        ind_acc_list.append(ind_acc)\n",
    "        print(\"{}-mer; epoch:{:2d}, tra loss:{:.4f}, acc:{:.4f};  ind loss:{:.4f}, acc:{:.4f}, mcc:{:.4f}, sn:{:.4f}, sp:{:.4f}\".format(mer, epoch, tra_loss, tra_acc, ind_loss, ind_acc, ind_mcc, ind_sn, ind_sp))\n",
    "    \n",
    "    # torch.save(model.state_dict(), \"fine-trained_model/C_Bert_2FC_average_{}-mer_temp.pt\".format(mer))\n",
    "    "
   ]
  },
  {
   "cell_type": "code",
   "execution_count": null,
   "id": "072adff6-e3c6-4972-8824-9db404869ccc",
   "metadata": {},
   "outputs": [],
   "source": []
  }
 ],
 "metadata": {
  "kernelspec": {
   "display_name": "Python 3",
   "language": "python",
   "name": "python3"
  },
  "language_info": {
   "codemirror_mode": {
    "name": "ipython",
    "version": 3
   },
   "file_extension": ".py",
   "mimetype": "text/x-python",
   "name": "python",
   "nbconvert_exporter": "python",
   "pygments_lexer": "ipython3",
   "version": "3.9.12"
  },
  "vscode": {
   "interpreter": {
    "hash": "06233b56f961380e94bcca211189b77c55ac475925b9cac0cc39dad8759f75d1"
   }
  }
 },
 "nbformat": 4,
 "nbformat_minor": 5
}
