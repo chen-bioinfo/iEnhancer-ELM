{
 "cells": [
  {
   "cell_type": "code",
   "execution_count": 1,
   "metadata": {},
   "outputs": [],
   "source": [
    "import numpy as np\n",
    "import pandas as pd\n",
    "from motif_util import *\n",
    "from motif_analysis_util import *"
   ]
  },
  {
   "cell_type": "code",
   "execution_count": 2,
   "metadata": {},
   "outputs": [
    {
     "name": "stdout",
     "output_type": "stream",
     "text": [
      "min_len: 5; max_gap: 1\n",
      "before filtering, the length of motif:6810\n",
      "After filtering, the length of motif:429\n",
      "After meger, the number of group:45\n",
      "After number filter, the number of group:30\n"
     ]
    }
   ],
   "source": [
    "mer = 3\n",
    "max_gaps = [1]\n",
    "min_lens = [5]\n",
    "for min_len in min_lens:\n",
    "    for max_gap in max_gaps:\n",
    "            \n",
    "        print(\"min_len: {}; max_gap: {}\".format(min_len, max_gap))\n",
    "\n",
    "        model_type = \"average\"\n",
    "        target_file = \"./atten/min_len={}/pos_motif_max_gap={}\".format(min_len, max_gap)\n",
    "\n",
    "        # motif analysis for the training dataset\n",
    "        # tra_attention_file = prefix + \"atten/atten_average_heads/C_Bert_2FC_average_atten_{}-mer_tra_head={}.npy\".format(mer, head+1)\n",
    "        tra_attention_file = \"atten/C_Bert_2FC_average_atten_{}-mer_tra.npy\".format(mer)\n",
    "        tra_sequence_file = \"../dataset/1-enhancer_train_data.txt\"\n",
    "\n",
    "        pos_seq, neg_seq, pos_atten_scores, neg_atten_scores = get_Atten_Seq(tra_attention_file, tra_sequence_file)\n",
    "        motif_analysis(pos_seq, neg_seq, pos_atten_scores, window_size=10, save_file_dir=target_file, min_len=min_len, max_gap=max_gap)\n",
    "\n",
    "        file_name = target_file + \"/\"\n",
    "        calculate_probability(file_name)\n",
    "        all_write_in_one(file_name, \"{}-{}_random\".format(min_len, max_gap))"
   ]
  }
 ],
 "metadata": {
  "kernelspec": {
   "display_name": "Python 3.9.12 ('tensorflow_pytorch_python': conda)",
   "language": "python",
   "name": "python3"
  },
  "language_info": {
   "codemirror_mode": {
    "name": "ipython",
    "version": 3
   },
   "file_extension": ".py",
   "mimetype": "text/x-python",
   "name": "python",
   "nbconvert_exporter": "python",
   "pygments_lexer": "ipython3",
   "version": "3.9.12"
  },
  "orig_nbformat": 4,
  "vscode": {
   "interpreter": {
    "hash": "06233b56f961380e94bcca211189b77c55ac475925b9cac0cc39dad8759f75d1"
   }
  }
 },
 "nbformat": 4,
 "nbformat_minor": 2
}
