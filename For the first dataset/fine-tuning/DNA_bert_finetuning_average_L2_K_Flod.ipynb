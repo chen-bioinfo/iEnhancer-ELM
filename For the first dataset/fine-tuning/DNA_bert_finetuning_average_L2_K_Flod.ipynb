{
 "cells": [
  {
   "cell_type": "code",
   "execution_count": 1,
   "id": "bd72df87-fe20-4098-a85b-4108c3000412",
   "metadata": {},
   "outputs": [],
   "source": [
    "import os\n",
    "import torch\n",
    "import argparse\n",
    "import numpy as np\n",
    "import pandas as pd\n",
    "from util import * \n",
    "from model import *\n",
    "from pandas import DataFrame\n",
    "from sklearn.model_selection import KFold\n",
    "from sklearn.model_selection import  StratifiedKFold\n",
    "\n",
    "from transformers import BertTokenizer\n",
    "from torch.utils.data import Dataset, DataLoader, TensorDataset\n",
    "from model import NewsDataset, NewDataset_finetuning\n",
    "\n",
    "os.environ[\"CUDA_VISIBLE_DEVICES\"] = \"0\"\n",
    "device=torch.device('cuda' if torch.cuda.is_available() else 'cpu')"
   ]
  },
  {
   "cell_type": "code",
   "execution_count": 2,
   "id": "13a03712-9a1c-40cf-bd72-f0598c33a607",
   "metadata": {},
   "outputs": [],
   "source": [
    "parser = argparse.ArgumentParser()\n",
    "parser.add_argument('--epoches',              type=int,  default=30,  help='')\n",
    "parser.add_argument('--batch_size',           type=int,  default=16,  help='')\n",
    "parser.add_argument('--max_length',           type=int,  default=200, help='')\n",
    "parser.add_argument('--learning_rate',        type=float, default=1e-4, help=\"\")\n",
    "parser.add_argument('--model_path',           type=str,  default=\"../DNA-BERT/3-new-12w-0\", help='')\n",
    "parser.add_argument('--ind_filename',  type=str,  default=\"../dataset/enhancer_3-mer_DNABERT_ind.txt\", help='')\n",
    "parser.add_argument('--tra_filename',  type=str,  default=\"../dataset/enhancer_3-mer_DNABERT_tra.txt\", help='')\n",
    "\n",
    "args = parser.parse_args(args=[]) \n",
    "\n",
    "# tra_dataloader, val_dataloader = getData(args, split=False, validation=True)\n",
    "# tra_dataloader = getData(args, split=False, validation=False)\n",
    "# ind_dataloader = getData(args, split=False, validation=True)\n",
    "# tra_dataloader, ind_dataloader = getDataLoader_finetuning(args)"
   ]
  },
  {
   "cell_type": "code",
   "execution_count": 3,
   "id": "64a9c631-3d8c-4b13-96f8-433f81d43981",
   "metadata": {},
   "outputs": [],
   "source": [
    "def GetDataset(tra_dataset_filename):\n",
    "    df_raw = pd.read_csv(tra_dataset_filename, sep=\"\\t\",header=None,names=[\"text\",\"label\"])\n",
    "    dataset_text, dataset_label = list(df_raw[\"text\"]), list(df_raw[\"label\"])\n",
    "    return dataset_text, dataset_label\n",
    "\n",
    "def getDataloader(dataset_text, dataset_label, args):\n",
    "    model_path = args.model_path\n",
    "    max_length = args.max_length\n",
    "    batch_size = args.batch_size\n",
    "    \n",
    "    tokenizer = BertTokenizer.from_pretrained(model_path) \n",
    "    dataset_encoding = tokenizer(dataset_text, truncation = True, padding = True, max_length = max_length)\n",
    "\n",
    "    train_dataset = NewsDataset(dataset_encoding, dataset_label)\n",
    "    dataloader = DataLoader(train_dataset, batch_size = batch_size, shuffle = True)\n",
    "    \n",
    "    return dataloader"
   ]
  },
  {
   "cell_type": "code",
   "execution_count": 4,
   "id": "ee1a1593-5a1e-4a6b-8c2f-d3c84d9041ec",
   "metadata": {},
   "outputs": [
    {
     "name": "stderr",
     "output_type": "stream",
     "text": [
      "Some weights of the model checkpoint at ../3-new-12w-0 were not used when initializing C_Bert_2FC_average: ['cls.predictions.decoder.bias', 'cls.predictions.bias', 'cls.predictions.transform.LayerNorm.bias', 'cls.predictions.decoder.weight', 'cls.predictions.transform.dense.weight', 'cls.predictions.transform.dense.bias', 'cls.predictions.transform.LayerNorm.weight']\n",
      "- This IS expected if you are initializing C_Bert_2FC_average from the checkpoint of a model trained on another task or with another architecture (e.g. initializing a BertForSequenceClassification model from a BertForPreTraining model).\n",
      "- This IS NOT expected if you are initializing C_Bert_2FC_average from the checkpoint of a model that you expect to be exactly identical (initializing a BertForSequenceClassification model from a BertForSequenceClassification model).\n",
      "Some weights of C_Bert_2FC_average were not initialized from the model checkpoint at ../3-new-12w-0 and are newly initialized: ['classifier2.weight', 'classifier2.bias', 'classifier1.bias', 'classifier1.weight']\n",
      "You should probably TRAIN this model on a down-stream task to be able to use it for predictions and inference.\n"
     ]
    },
    {
     "name": "stdout",
     "output_type": "stream",
     "text": [
      "3-mer, 0-flod, val_acc:0.7710437710437711, val_sn:0.6805555555555556, val_sp:0.8562091503267973, val_mcc:0.5466805932050623\n"
     ]
    },
    {
     "name": "stderr",
     "output_type": "stream",
     "text": [
      "Some weights of the model checkpoint at ../3-new-12w-0 were not used when initializing C_Bert_2FC_average: ['cls.predictions.decoder.bias', 'cls.predictions.bias', 'cls.predictions.transform.LayerNorm.bias', 'cls.predictions.decoder.weight', 'cls.predictions.transform.dense.weight', 'cls.predictions.transform.dense.bias', 'cls.predictions.transform.LayerNorm.weight']\n",
      "- This IS expected if you are initializing C_Bert_2FC_average from the checkpoint of a model trained on another task or with another architecture (e.g. initializing a BertForSequenceClassification model from a BertForPreTraining model).\n",
      "- This IS NOT expected if you are initializing C_Bert_2FC_average from the checkpoint of a model that you expect to be exactly identical (initializing a BertForSequenceClassification model from a BertForSequenceClassification model).\n",
      "Some weights of C_Bert_2FC_average were not initialized from the model checkpoint at ../3-new-12w-0 and are newly initialized: ['classifier2.weight', 'classifier2.bias', 'classifier1.bias', 'classifier1.weight']\n",
      "You should probably TRAIN this model on a down-stream task to be able to use it for predictions and inference.\n"
     ]
    },
    {
     "name": "stdout",
     "output_type": "stream",
     "text": [
      "3-mer, 1-flod, val_acc:0.797979797979798, val_sn:0.7482993197278912, val_sp:0.8466666666666667, val_mcc:0.598203143194434\n"
     ]
    },
    {
     "name": "stderr",
     "output_type": "stream",
     "text": [
      "Some weights of the model checkpoint at ../3-new-12w-0 were not used when initializing C_Bert_2FC_average: ['cls.predictions.decoder.bias', 'cls.predictions.bias', 'cls.predictions.transform.LayerNorm.bias', 'cls.predictions.decoder.weight', 'cls.predictions.transform.dense.weight', 'cls.predictions.transform.dense.bias', 'cls.predictions.transform.LayerNorm.weight']\n",
      "- This IS expected if you are initializing C_Bert_2FC_average from the checkpoint of a model trained on another task or with another architecture (e.g. initializing a BertForSequenceClassification model from a BertForPreTraining model).\n",
      "- This IS NOT expected if you are initializing C_Bert_2FC_average from the checkpoint of a model that you expect to be exactly identical (initializing a BertForSequenceClassification model from a BertForSequenceClassification model).\n",
      "Some weights of C_Bert_2FC_average were not initialized from the model checkpoint at ../3-new-12w-0 and are newly initialized: ['classifier2.weight', 'classifier2.bias', 'classifier1.bias', 'classifier1.weight']\n",
      "You should probably TRAIN this model on a down-stream task to be able to use it for predictions and inference.\n"
     ]
    },
    {
     "name": "stdout",
     "output_type": "stream",
     "text": [
      "3-mer, 2-flod, val_acc:0.765993265993266, val_sn:0.7064516129032258, val_sp:0.8309859154929577, val_mcc:0.539682703191289\n"
     ]
    },
    {
     "name": "stderr",
     "output_type": "stream",
     "text": [
      "Some weights of the model checkpoint at ../3-new-12w-0 were not used when initializing C_Bert_2FC_average: ['cls.predictions.decoder.bias', 'cls.predictions.bias', 'cls.predictions.transform.LayerNorm.bias', 'cls.predictions.decoder.weight', 'cls.predictions.transform.dense.weight', 'cls.predictions.transform.dense.bias', 'cls.predictions.transform.LayerNorm.weight']\n",
      "- This IS expected if you are initializing C_Bert_2FC_average from the checkpoint of a model trained on another task or with another architecture (e.g. initializing a BertForSequenceClassification model from a BertForPreTraining model).\n",
      "- This IS NOT expected if you are initializing C_Bert_2FC_average from the checkpoint of a model that you expect to be exactly identical (initializing a BertForSequenceClassification model from a BertForSequenceClassification model).\n",
      "Some weights of C_Bert_2FC_average were not initialized from the model checkpoint at ../3-new-12w-0 and are newly initialized: ['classifier2.weight', 'classifier2.bias', 'classifier1.bias', 'classifier1.weight']\n",
      "You should probably TRAIN this model on a down-stream task to be able to use it for predictions and inference.\n"
     ]
    },
    {
     "name": "stdout",
     "output_type": "stream",
     "text": [
      "3-mer, 3-flod, val_acc:0.7639123102866779, val_sn:0.7491961414790996, val_sp:0.7801418439716312, val_mcc:0.5287113928833733\n"
     ]
    },
    {
     "name": "stderr",
     "output_type": "stream",
     "text": [
      "Some weights of the model checkpoint at ../3-new-12w-0 were not used when initializing C_Bert_2FC_average: ['cls.predictions.decoder.bias', 'cls.predictions.bias', 'cls.predictions.transform.LayerNorm.bias', 'cls.predictions.decoder.weight', 'cls.predictions.transform.dense.weight', 'cls.predictions.transform.dense.bias', 'cls.predictions.transform.LayerNorm.weight']\n",
      "- This IS expected if you are initializing C_Bert_2FC_average from the checkpoint of a model trained on another task or with another architecture (e.g. initializing a BertForSequenceClassification model from a BertForPreTraining model).\n",
      "- This IS NOT expected if you are initializing C_Bert_2FC_average from the checkpoint of a model that you expect to be exactly identical (initializing a BertForSequenceClassification model from a BertForSequenceClassification model).\n",
      "Some weights of C_Bert_2FC_average were not initialized from the model checkpoint at ../3-new-12w-0 and are newly initialized: ['classifier2.weight', 'classifier2.bias', 'classifier1.bias', 'classifier1.weight']\n",
      "You should probably TRAIN this model on a down-stream task to be able to use it for predictions and inference.\n"
     ]
    },
    {
     "name": "stdout",
     "output_type": "stream",
     "text": [
      "3-mer, 4-flod, val_acc:0.7689713322091062, val_sn:0.7686832740213523, val_sp:0.7692307692307693, val_mcc:0.5373993983857447\n"
     ]
    },
    {
     "name": "stderr",
     "output_type": "stream",
     "text": [
      "Some weights of the model checkpoint at ../4-new-12w-0 were not used when initializing C_Bert_2FC_average: ['cls.predictions.decoder.bias', 'cls.predictions.bias', 'cls.predictions.transform.LayerNorm.bias', 'cls.predictions.decoder.weight', 'cls.predictions.transform.dense.weight', 'cls.predictions.transform.dense.bias', 'cls.predictions.transform.LayerNorm.weight']\n",
      "- This IS expected if you are initializing C_Bert_2FC_average from the checkpoint of a model trained on another task or with another architecture (e.g. initializing a BertForSequenceClassification model from a BertForPreTraining model).\n",
      "- This IS NOT expected if you are initializing C_Bert_2FC_average from the checkpoint of a model that you expect to be exactly identical (initializing a BertForSequenceClassification model from a BertForSequenceClassification model).\n",
      "Some weights of C_Bert_2FC_average were not initialized from the model checkpoint at ../4-new-12w-0 and are newly initialized: ['classifier2.weight', 'classifier2.bias', 'classifier1.bias', 'classifier1.weight']\n",
      "You should probably TRAIN this model on a down-stream task to be able to use it for predictions and inference.\n"
     ]
    },
    {
     "name": "stdout",
     "output_type": "stream",
     "text": [
      "4-mer, 0-flod, val_acc:0.7575757575757576, val_sn:0.8611111111111112, val_sp:0.6601307189542484, val_mcc:0.5301725074921697\n"
     ]
    },
    {
     "name": "stderr",
     "output_type": "stream",
     "text": [
      "Some weights of the model checkpoint at ../4-new-12w-0 were not used when initializing C_Bert_2FC_average: ['cls.predictions.decoder.bias', 'cls.predictions.bias', 'cls.predictions.transform.LayerNorm.bias', 'cls.predictions.decoder.weight', 'cls.predictions.transform.dense.weight', 'cls.predictions.transform.dense.bias', 'cls.predictions.transform.LayerNorm.weight']\n",
      "- This IS expected if you are initializing C_Bert_2FC_average from the checkpoint of a model trained on another task or with another architecture (e.g. initializing a BertForSequenceClassification model from a BertForPreTraining model).\n",
      "- This IS NOT expected if you are initializing C_Bert_2FC_average from the checkpoint of a model that you expect to be exactly identical (initializing a BertForSequenceClassification model from a BertForSequenceClassification model).\n",
      "Some weights of C_Bert_2FC_average were not initialized from the model checkpoint at ../4-new-12w-0 and are newly initialized: ['classifier2.weight', 'classifier2.bias', 'classifier1.bias', 'classifier1.weight']\n",
      "You should probably TRAIN this model on a down-stream task to be able to use it for predictions and inference.\n"
     ]
    },
    {
     "name": "stdout",
     "output_type": "stream",
     "text": [
      "4-mer, 1-flod, val_acc:0.797979797979798, val_sn:0.7244897959183674, val_sp:0.87, val_mcc:0.6014027002913718\n"
     ]
    },
    {
     "name": "stderr",
     "output_type": "stream",
     "text": [
      "Some weights of the model checkpoint at ../4-new-12w-0 were not used when initializing C_Bert_2FC_average: ['cls.predictions.decoder.bias', 'cls.predictions.bias', 'cls.predictions.transform.LayerNorm.bias', 'cls.predictions.decoder.weight', 'cls.predictions.transform.dense.weight', 'cls.predictions.transform.dense.bias', 'cls.predictions.transform.LayerNorm.weight']\n",
      "- This IS expected if you are initializing C_Bert_2FC_average from the checkpoint of a model trained on another task or with another architecture (e.g. initializing a BertForSequenceClassification model from a BertForPreTraining model).\n",
      "- This IS NOT expected if you are initializing C_Bert_2FC_average from the checkpoint of a model that you expect to be exactly identical (initializing a BertForSequenceClassification model from a BertForSequenceClassification model).\n",
      "Some weights of C_Bert_2FC_average were not initialized from the model checkpoint at ../4-new-12w-0 and are newly initialized: ['classifier2.weight', 'classifier2.bias', 'classifier1.bias', 'classifier1.weight']\n",
      "You should probably TRAIN this model on a down-stream task to be able to use it for predictions and inference.\n"
     ]
    },
    {
     "name": "stdout",
     "output_type": "stream",
     "text": [
      "4-mer, 2-flod, val_acc:0.7794612794612794, val_sn:0.7645161290322581, val_sp:0.795774647887324, val_mcc:0.5597664798108547\n"
     ]
    },
    {
     "name": "stderr",
     "output_type": "stream",
     "text": [
      "Some weights of the model checkpoint at ../4-new-12w-0 were not used when initializing C_Bert_2FC_average: ['cls.predictions.decoder.bias', 'cls.predictions.bias', 'cls.predictions.transform.LayerNorm.bias', 'cls.predictions.decoder.weight', 'cls.predictions.transform.dense.weight', 'cls.predictions.transform.dense.bias', 'cls.predictions.transform.LayerNorm.weight']\n",
      "- This IS expected if you are initializing C_Bert_2FC_average from the checkpoint of a model trained on another task or with another architecture (e.g. initializing a BertForSequenceClassification model from a BertForPreTraining model).\n",
      "- This IS NOT expected if you are initializing C_Bert_2FC_average from the checkpoint of a model that you expect to be exactly identical (initializing a BertForSequenceClassification model from a BertForSequenceClassification model).\n",
      "Some weights of C_Bert_2FC_average were not initialized from the model checkpoint at ../4-new-12w-0 and are newly initialized: ['classifier2.weight', 'classifier2.bias', 'classifier1.bias', 'classifier1.weight']\n",
      "You should probably TRAIN this model on a down-stream task to be able to use it for predictions and inference.\n"
     ]
    },
    {
     "name": "stdout",
     "output_type": "stream",
     "text": [
      "4-mer, 3-flod, val_acc:0.7419898819561551, val_sn:0.7106109324758842, val_sp:0.776595744680851, val_mcc:0.48705675459247416\n"
     ]
    },
    {
     "name": "stderr",
     "output_type": "stream",
     "text": [
      "Some weights of the model checkpoint at ../4-new-12w-0 were not used when initializing C_Bert_2FC_average: ['cls.predictions.decoder.bias', 'cls.predictions.bias', 'cls.predictions.transform.LayerNorm.bias', 'cls.predictions.decoder.weight', 'cls.predictions.transform.dense.weight', 'cls.predictions.transform.dense.bias', 'cls.predictions.transform.LayerNorm.weight']\n",
      "- This IS expected if you are initializing C_Bert_2FC_average from the checkpoint of a model trained on another task or with another architecture (e.g. initializing a BertForSequenceClassification model from a BertForPreTraining model).\n",
      "- This IS NOT expected if you are initializing C_Bert_2FC_average from the checkpoint of a model that you expect to be exactly identical (initializing a BertForSequenceClassification model from a BertForSequenceClassification model).\n",
      "Some weights of C_Bert_2FC_average were not initialized from the model checkpoint at ../4-new-12w-0 and are newly initialized: ['classifier2.weight', 'classifier2.bias', 'classifier1.bias', 'classifier1.weight']\n",
      "You should probably TRAIN this model on a down-stream task to be able to use it for predictions and inference.\n"
     ]
    },
    {
     "name": "stdout",
     "output_type": "stream",
     "text": [
      "4-mer, 4-flod, val_acc:0.7537942664418212, val_sn:0.701067615658363, val_sp:0.8012820512820513, val_mcc:0.505723878732951\n"
     ]
    },
    {
     "name": "stderr",
     "output_type": "stream",
     "text": [
      "Some weights of the model checkpoint at ../5-new-12w-0 were not used when initializing C_Bert_2FC_average: ['cls.predictions.decoder.bias', 'cls.predictions.bias', 'cls.predictions.transform.LayerNorm.bias', 'cls.predictions.decoder.weight', 'cls.predictions.transform.dense.weight', 'cls.predictions.transform.dense.bias', 'cls.predictions.transform.LayerNorm.weight']\n",
      "- This IS expected if you are initializing C_Bert_2FC_average from the checkpoint of a model trained on another task or with another architecture (e.g. initializing a BertForSequenceClassification model from a BertForPreTraining model).\n",
      "- This IS NOT expected if you are initializing C_Bert_2FC_average from the checkpoint of a model that you expect to be exactly identical (initializing a BertForSequenceClassification model from a BertForSequenceClassification model).\n",
      "Some weights of C_Bert_2FC_average were not initialized from the model checkpoint at ../5-new-12w-0 and are newly initialized: ['classifier2.weight', 'classifier2.bias', 'classifier1.bias', 'classifier1.weight']\n",
      "You should probably TRAIN this model on a down-stream task to be able to use it for predictions and inference.\n"
     ]
    },
    {
     "name": "stdout",
     "output_type": "stream",
     "text": [
      "5-mer, 0-flod, val_acc:0.7845117845117845, val_sn:0.7847222222222222, val_sp:0.7843137254901961, val_mcc:0.568855239910017\n"
     ]
    },
    {
     "name": "stderr",
     "output_type": "stream",
     "text": [
      "Some weights of the model checkpoint at ../5-new-12w-0 were not used when initializing C_Bert_2FC_average: ['cls.predictions.decoder.bias', 'cls.predictions.bias', 'cls.predictions.transform.LayerNorm.bias', 'cls.predictions.decoder.weight', 'cls.predictions.transform.dense.weight', 'cls.predictions.transform.dense.bias', 'cls.predictions.transform.LayerNorm.weight']\n",
      "- This IS expected if you are initializing C_Bert_2FC_average from the checkpoint of a model trained on another task or with another architecture (e.g. initializing a BertForSequenceClassification model from a BertForPreTraining model).\n",
      "- This IS NOT expected if you are initializing C_Bert_2FC_average from the checkpoint of a model that you expect to be exactly identical (initializing a BertForSequenceClassification model from a BertForSequenceClassification model).\n",
      "Some weights of C_Bert_2FC_average were not initialized from the model checkpoint at ../5-new-12w-0 and are newly initialized: ['classifier2.weight', 'classifier2.bias', 'classifier1.bias', 'classifier1.weight']\n",
      "You should probably TRAIN this model on a down-stream task to be able to use it for predictions and inference.\n"
     ]
    },
    {
     "name": "stdout",
     "output_type": "stream",
     "text": [
      "5-mer, 1-flod, val_acc:0.797979797979798, val_sn:0.7721088435374149, val_sp:0.8233333333333334, val_mcc:0.5963895795014915\n"
     ]
    },
    {
     "name": "stderr",
     "output_type": "stream",
     "text": [
      "Some weights of the model checkpoint at ../5-new-12w-0 were not used when initializing C_Bert_2FC_average: ['cls.predictions.decoder.bias', 'cls.predictions.bias', 'cls.predictions.transform.LayerNorm.bias', 'cls.predictions.decoder.weight', 'cls.predictions.transform.dense.weight', 'cls.predictions.transform.dense.bias', 'cls.predictions.transform.LayerNorm.weight']\n",
      "- This IS expected if you are initializing C_Bert_2FC_average from the checkpoint of a model trained on another task or with another architecture (e.g. initializing a BertForSequenceClassification model from a BertForPreTraining model).\n",
      "- This IS NOT expected if you are initializing C_Bert_2FC_average from the checkpoint of a model that you expect to be exactly identical (initializing a BertForSequenceClassification model from a BertForSequenceClassification model).\n",
      "Some weights of C_Bert_2FC_average were not initialized from the model checkpoint at ../5-new-12w-0 and are newly initialized: ['classifier2.weight', 'classifier2.bias', 'classifier1.bias', 'classifier1.weight']\n",
      "You should probably TRAIN this model on a down-stream task to be able to use it for predictions and inference.\n"
     ]
    },
    {
     "name": "stdout",
     "output_type": "stream",
     "text": [
      "5-mer, 2-flod, val_acc:0.7592592592592593, val_sn:0.7032258064516129, val_sp:0.8204225352112676, val_mcc:0.5254869424703162\n"
     ]
    },
    {
     "name": "stderr",
     "output_type": "stream",
     "text": [
      "Some weights of the model checkpoint at ../5-new-12w-0 were not used when initializing C_Bert_2FC_average: ['cls.predictions.decoder.bias', 'cls.predictions.bias', 'cls.predictions.transform.LayerNorm.bias', 'cls.predictions.decoder.weight', 'cls.predictions.transform.dense.weight', 'cls.predictions.transform.dense.bias', 'cls.predictions.transform.LayerNorm.weight']\n",
      "- This IS expected if you are initializing C_Bert_2FC_average from the checkpoint of a model trained on another task or with another architecture (e.g. initializing a BertForSequenceClassification model from a BertForPreTraining model).\n",
      "- This IS NOT expected if you are initializing C_Bert_2FC_average from the checkpoint of a model that you expect to be exactly identical (initializing a BertForSequenceClassification model from a BertForSequenceClassification model).\n",
      "Some weights of C_Bert_2FC_average were not initialized from the model checkpoint at ../5-new-12w-0 and are newly initialized: ['classifier2.weight', 'classifier2.bias', 'classifier1.bias', 'classifier1.weight']\n",
      "You should probably TRAIN this model on a down-stream task to be able to use it for predictions and inference.\n"
     ]
    },
    {
     "name": "stdout",
     "output_type": "stream",
     "text": [
      "5-mer, 3-flod, val_acc:0.7453625632377741, val_sn:0.6784565916398714, val_sp:0.8191489361702128, val_mcc:0.5004092193060073\n"
     ]
    },
    {
     "name": "stderr",
     "output_type": "stream",
     "text": [
      "Some weights of the model checkpoint at ../5-new-12w-0 were not used when initializing C_Bert_2FC_average: ['cls.predictions.decoder.bias', 'cls.predictions.bias', 'cls.predictions.transform.LayerNorm.bias', 'cls.predictions.decoder.weight', 'cls.predictions.transform.dense.weight', 'cls.predictions.transform.dense.bias', 'cls.predictions.transform.LayerNorm.weight']\n",
      "- This IS expected if you are initializing C_Bert_2FC_average from the checkpoint of a model trained on another task or with another architecture (e.g. initializing a BertForSequenceClassification model from a BertForPreTraining model).\n",
      "- This IS NOT expected if you are initializing C_Bert_2FC_average from the checkpoint of a model that you expect to be exactly identical (initializing a BertForSequenceClassification model from a BertForSequenceClassification model).\n",
      "Some weights of C_Bert_2FC_average were not initialized from the model checkpoint at ../5-new-12w-0 and are newly initialized: ['classifier2.weight', 'classifier2.bias', 'classifier1.bias', 'classifier1.weight']\n",
      "You should probably TRAIN this model on a down-stream task to be able to use it for predictions and inference.\n"
     ]
    },
    {
     "name": "stdout",
     "output_type": "stream",
     "text": [
      "5-mer, 4-flod, val_acc:0.7774030354131535, val_sn:0.7580071174377224, val_sp:0.7948717948717948, val_mcc:0.5533208770912498\n"
     ]
    },
    {
     "name": "stderr",
     "output_type": "stream",
     "text": [
      "Some weights of the model checkpoint at ../6-new-12w-0 were not used when initializing C_Bert_2FC_average: ['cls.predictions.decoder.bias', 'cls.predictions.bias', 'cls.predictions.transform.LayerNorm.bias', 'cls.predictions.decoder.weight', 'cls.predictions.transform.dense.weight', 'cls.predictions.transform.dense.bias', 'cls.predictions.transform.LayerNorm.weight']\n",
      "- This IS expected if you are initializing C_Bert_2FC_average from the checkpoint of a model trained on another task or with another architecture (e.g. initializing a BertForSequenceClassification model from a BertForPreTraining model).\n",
      "- This IS NOT expected if you are initializing C_Bert_2FC_average from the checkpoint of a model that you expect to be exactly identical (initializing a BertForSequenceClassification model from a BertForSequenceClassification model).\n",
      "Some weights of C_Bert_2FC_average were not initialized from the model checkpoint at ../6-new-12w-0 and are newly initialized: ['classifier2.weight', 'classifier2.bias', 'classifier1.bias', 'classifier1.weight']\n",
      "You should probably TRAIN this model on a down-stream task to be able to use it for predictions and inference.\n"
     ]
    },
    {
     "name": "stdout",
     "output_type": "stream",
     "text": [
      "6-mer, 0-flod, val_acc:0.7693602693602694, val_sn:0.8125, val_sp:0.7287581699346405, val_mcc:0.5422404429687012\n"
     ]
    },
    {
     "name": "stderr",
     "output_type": "stream",
     "text": [
      "Some weights of the model checkpoint at ../6-new-12w-0 were not used when initializing C_Bert_2FC_average: ['cls.predictions.decoder.bias', 'cls.predictions.bias', 'cls.predictions.transform.LayerNorm.bias', 'cls.predictions.decoder.weight', 'cls.predictions.transform.dense.weight', 'cls.predictions.transform.dense.bias', 'cls.predictions.transform.LayerNorm.weight']\n",
      "- This IS expected if you are initializing C_Bert_2FC_average from the checkpoint of a model trained on another task or with another architecture (e.g. initializing a BertForSequenceClassification model from a BertForPreTraining model).\n",
      "- This IS NOT expected if you are initializing C_Bert_2FC_average from the checkpoint of a model that you expect to be exactly identical (initializing a BertForSequenceClassification model from a BertForSequenceClassification model).\n",
      "Some weights of C_Bert_2FC_average were not initialized from the model checkpoint at ../6-new-12w-0 and are newly initialized: ['classifier2.weight', 'classifier2.bias', 'classifier1.bias', 'classifier1.weight']\n",
      "You should probably TRAIN this model on a down-stream task to be able to use it for predictions and inference.\n"
     ]
    },
    {
     "name": "stdout",
     "output_type": "stream",
     "text": [
      "6-mer, 1-flod, val_acc:0.797979797979798, val_sn:0.8299319727891157, val_sp:0.7666666666666667, val_mcc:0.597547882123624\n"
     ]
    },
    {
     "name": "stderr",
     "output_type": "stream",
     "text": [
      "Some weights of the model checkpoint at ../6-new-12w-0 were not used when initializing C_Bert_2FC_average: ['cls.predictions.decoder.bias', 'cls.predictions.bias', 'cls.predictions.transform.LayerNorm.bias', 'cls.predictions.decoder.weight', 'cls.predictions.transform.dense.weight', 'cls.predictions.transform.dense.bias', 'cls.predictions.transform.LayerNorm.weight']\n",
      "- This IS expected if you are initializing C_Bert_2FC_average from the checkpoint of a model trained on another task or with another architecture (e.g. initializing a BertForSequenceClassification model from a BertForPreTraining model).\n",
      "- This IS NOT expected if you are initializing C_Bert_2FC_average from the checkpoint of a model that you expect to be exactly identical (initializing a BertForSequenceClassification model from a BertForSequenceClassification model).\n",
      "Some weights of C_Bert_2FC_average were not initialized from the model checkpoint at ../6-new-12w-0 and are newly initialized: ['classifier2.weight', 'classifier2.bias', 'classifier1.bias', 'classifier1.weight']\n",
      "You should probably TRAIN this model on a down-stream task to be able to use it for predictions and inference.\n"
     ]
    },
    {
     "name": "stdout",
     "output_type": "stream",
     "text": [
      "6-mer, 2-flod, val_acc:0.7760942760942761, val_sn:0.7612903225806451, val_sp:0.7922535211267606, val_mcc:0.5530258601018122\n"
     ]
    },
    {
     "name": "stderr",
     "output_type": "stream",
     "text": [
      "Some weights of the model checkpoint at ../6-new-12w-0 were not used when initializing C_Bert_2FC_average: ['cls.predictions.decoder.bias', 'cls.predictions.bias', 'cls.predictions.transform.LayerNorm.bias', 'cls.predictions.decoder.weight', 'cls.predictions.transform.dense.weight', 'cls.predictions.transform.dense.bias', 'cls.predictions.transform.LayerNorm.weight']\n",
      "- This IS expected if you are initializing C_Bert_2FC_average from the checkpoint of a model trained on another task or with another architecture (e.g. initializing a BertForSequenceClassification model from a BertForPreTraining model).\n",
      "- This IS NOT expected if you are initializing C_Bert_2FC_average from the checkpoint of a model that you expect to be exactly identical (initializing a BertForSequenceClassification model from a BertForSequenceClassification model).\n",
      "Some weights of C_Bert_2FC_average were not initialized from the model checkpoint at ../6-new-12w-0 and are newly initialized: ['classifier2.weight', 'classifier2.bias', 'classifier1.bias', 'classifier1.weight']\n",
      "You should probably TRAIN this model on a down-stream task to be able to use it for predictions and inference.\n"
     ]
    },
    {
     "name": "stdout",
     "output_type": "stream",
     "text": [
      "6-mer, 3-flod, val_acc:0.7487352445193929, val_sn:0.6816720257234726, val_sp:0.8226950354609929, val_mcc:0.5072088496318126\n"
     ]
    },
    {
     "name": "stderr",
     "output_type": "stream",
     "text": [
      "Some weights of the model checkpoint at ../6-new-12w-0 were not used when initializing C_Bert_2FC_average: ['cls.predictions.decoder.bias', 'cls.predictions.bias', 'cls.predictions.transform.LayerNorm.bias', 'cls.predictions.decoder.weight', 'cls.predictions.transform.dense.weight', 'cls.predictions.transform.dense.bias', 'cls.predictions.transform.LayerNorm.weight']\n",
      "- This IS expected if you are initializing C_Bert_2FC_average from the checkpoint of a model trained on another task or with another architecture (e.g. initializing a BertForSequenceClassification model from a BertForPreTraining model).\n",
      "- This IS NOT expected if you are initializing C_Bert_2FC_average from the checkpoint of a model that you expect to be exactly identical (initializing a BertForSequenceClassification model from a BertForSequenceClassification model).\n",
      "Some weights of C_Bert_2FC_average were not initialized from the model checkpoint at ../6-new-12w-0 and are newly initialized: ['classifier2.weight', 'classifier2.bias', 'classifier1.bias', 'classifier1.weight']\n",
      "You should probably TRAIN this model on a down-stream task to be able to use it for predictions and inference.\n"
     ]
    },
    {
     "name": "stdout",
     "output_type": "stream",
     "text": [
      "6-mer, 4-flod, val_acc:0.7723440134907251, val_sn:0.7437722419928826, val_sp:0.7980769230769231, val_mcc:0.5429650772116754\n"
     ]
    }
   ],
   "source": [
    "# average [3,4,5,6]\n",
    "# add L2-nnormalization and average the output of DNABERT in k-mer tokens\n",
    "# mers = [3, 4, 5, 6]\n",
    "mers = [3,4,5,6]\n",
    "lambds = [1e-3, 1e-3, 5e-4, 5e-5]\n",
    "learning_rates = [5e-5, 2e-5, 5e-5, 1e-5]\n",
    "\n",
    "val_acc_list, val_mcc_list, val_sn_list, val_sp_list = [], [], [], []\n",
    "\n",
    "for i in range(len(mers)):\n",
    "    mer = mers[i]\n",
    "    lambd = lambds[i]\n",
    "    learning_rate = learning_rates[i]\n",
    "    \n",
    "    val_acc_fold, val_mcc_fold, val_sn_fold, val_sp_fold = [], [], [], []\n",
    "    \n",
    "    args.model_path = \"../../DNA-BERT/{}-new-12w-0\".format(mer)\n",
    "    args.ind_filename = \"../dataset/enhancer_{}-mer_DNABERT_ind.txt\".format(mer)\n",
    "    args.tra_filename = \"../dataset/enhancer_{}-mer_DNABERT_tra.txt\".format(mer)\n",
    "    \n",
    "    dataset_text, dataset_label = GetDataset(args.tra_filename)\n",
    "    dataset_text = np.array(dataset_text)\n",
    "    dataset_label = np.array(dataset_label)\n",
    "    \n",
    "    folds = 5\n",
    "    seed = 2022\n",
    "    kf = KFold(n_splits=folds, shuffle=True, random_state=seed)\n",
    "    \n",
    "    for i, (train_index, valid_index) in enumerate(kf.split(dataset_text, dataset_label)):\n",
    "        \n",
    "        x_train_flods, y_train_folds = dataset_text[train_index], dataset_label[train_index]\n",
    "        x_valid_fold, y_valid_fold = dataset_text[valid_index], dataset_label[valid_index]\n",
    "        \n",
    "        tra_dataloader = getDataloader(list(x_train_flods), list(y_train_folds), args)\n",
    "        val_dataloader = getDataloader(list(x_valid_fold), list(y_valid_fold), args)\n",
    "        \n",
    "        model = C_Bert_2FC_average.from_pretrained(args.model_path, num_labels=1).to(device)\n",
    "        \n",
    "        epoches = args.epoches\n",
    "        optimizer = optim.Adam(model.parameters(), lr=learning_rate, betas=(0.9, 0.999), eps=1e-08,)\n",
    "        scheduler = optim.lr_scheduler.ExponentialLR(optimizer, 0.98)    # 指数衰减损失函数\n",
    "        \n",
    "        for epoch in range(epoches):\n",
    "            tra_acc, tra_loss = train_finetuning_Norm(model, tra_dataloader, optimizer, args, lambd, 2)\n",
    "            scheduler.step()\n",
    "            \n",
    "            val_acc, val_mcc, val_sn, val_sp, val_loss = validation_finetuning(model, val_dataloader)\n",
    "            \n",
    "        val_acc_fold.append(val_acc)\n",
    "        val_mcc_fold.append(val_mcc)\n",
    "        val_sn_fold.append(val_sn)\n",
    "        val_sp_fold.append(val_sp)\n",
    "        \n",
    "        print(\"{}-mer, {}-flod, val_acc:{}, val_sn:{}, val_sp:{}, val_mcc:{}\".format(mer, i, val_acc, val_sn, val_sp, val_mcc))\n",
    "        \n",
    "    val_acc_list.append(val_acc_fold)\n",
    "    val_mcc_list.append(val_mcc_fold)\n",
    "    val_sn_list.append(val_sn_fold)\n",
    "    val_sp_list.append(val_sp_fold)"
   ]
  },
  {
   "cell_type": "code",
   "execution_count": null,
   "id": "072adff6-e3c6-4972-8824-9db404869ccc",
   "metadata": {},
   "outputs": [],
   "source": []
  }
 ],
 "metadata": {
  "kernelspec": {
   "display_name": "Python 3",
   "language": "python",
   "name": "python3"
  },
  "language_info": {
   "codemirror_mode": {
    "name": "ipython",
    "version": 3
   },
   "file_extension": ".py",
   "mimetype": "text/x-python",
   "name": "python",
   "nbconvert_exporter": "python",
   "pygments_lexer": "ipython3",
   "version": "3.6.9"
  },
  "vscode": {
   "interpreter": {
    "hash": "06233b56f961380e94bcca211189b77c55ac475925b9cac0cc39dad8759f75d1"
   }
  }
 },
 "nbformat": 4,
 "nbformat_minor": 5
}
